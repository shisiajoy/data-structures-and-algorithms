{
  "nbformat": 4,
  "nbformat_minor": 0,
  "metadata": {
    "colab": {
      "provenance": []
    },
    "kernelspec": {
      "name": "python3",
      "display_name": "Python 3"
    },
    "language_info": {
      "name": "python"
    }
  },
  "cells": [
    {
      "cell_type": "code",
      "source": [
        "# Bubble Sort\n",
        "def bubble_sort(arr):\n",
        "    for i in range(len(arr)):\n",
        "        for j in range(0, len(arr) - i - 1):\n",
        "            if arr[j] > arr[j + 1]:\n",
        "                arr[j], arr[j + 1] = arr[j + 1], arr[j]\n",
        "    return arr\n",
        "\n",
        "# Sample array\n",
        "arr = [64, 34, 25, 12, 22, 11, 90]\n",
        "\n",
        "# Sort the array using bubble sort\n",
        "sorted_arr = bubble_sort(arr)\n",
        "\n",
        "# Print the sorted array\n",
        "print(\"Sorted array:\", sorted_arr)"
      ],
      "metadata": {
        "colab": {
          "base_uri": "https://localhost:8080/"
        },
        "id": "dpPILtQg3IKI",
        "outputId": "91d7379f-17a7-43fa-94d0-63bc379d2eb0"
      },
      "execution_count": 5,
      "outputs": [
        {
          "output_type": "stream",
          "name": "stdout",
          "text": [
            "Sorted array: [11, 12, 22, 25, 34, 64, 90]\n"
          ]
        }
      ]
    },
    {
      "cell_type": "code",
      "source": [
        "# Selection Sort\n",
        "def selection_sort(arr):\n",
        "    for i in range(len(arr)):\n",
        "        min_index = i\n",
        "        for j in range(i + 1, len(arr)):\n",
        "            if arr[j] < arr[min_index]:\n",
        "                min_index = j\n",
        "        arr[i], arr[min_index] = arr[min_index], arr[i]\n",
        "    return arr\n",
        "\n",
        "# Sample array\n",
        "arr = [64, 34, 25, 12, 22, 11, 90]\n",
        "\n",
        "# Sort the array using selection sort\n",
        "sorted_arr = selection_sort(arr)\n",
        "\n",
        "# Print the sorted array\n",
        "print(\"Sorted array:\", sorted_arr)\n"
      ],
      "metadata": {
        "colab": {
          "base_uri": "https://localhost:8080/"
        },
        "id": "3IyWMW0e2ZTG",
        "outputId": "c2540302-e557-4a34-950f-c20c7295b999"
      },
      "execution_count": 4,
      "outputs": [
        {
          "output_type": "stream",
          "name": "stdout",
          "text": [
            "Sorted array: [11, 12, 22, 25, 34, 64, 90]\n"
          ]
        }
      ]
    },
    {
      "cell_type": "code",
      "source": [
        "# Insertion Sort\n",
        "def insertion_sort(arr):\n",
        "    for i in range(1, len(arr)):\n",
        "        key = arr[i]\n",
        "        j = i - 1\n",
        "        while j >= 0 and key < arr[j]:\n",
        "            arr[j + 1] = arr[j]\n",
        "            j -= 1\n",
        "        arr[j + 1] = key\n",
        "    return arr\n",
        "\n",
        "# Sample array\n",
        "arr = [64, 34, 25, 12, 22, 11, 90]\n",
        "\n",
        "# Sort the array using insertion sort\n",
        "sorted_arr = insertion_sort(arr)\n",
        "\n",
        "# Print the sorted array\n",
        "print(\"Sorted array:\", sorted_arr)\n"
      ],
      "metadata": {
        "colab": {
          "base_uri": "https://localhost:8080/"
        },
        "id": "7gYBb9NL3PiT",
        "outputId": "2321150f-3b7b-49a1-ce25-d2ad57974d1d"
      },
      "execution_count": 6,
      "outputs": [
        {
          "output_type": "stream",
          "name": "stdout",
          "text": [
            "Sorted array: [11, 12, 22, 25, 34, 64, 90]\n"
          ]
        }
      ]
    }
  ]
}