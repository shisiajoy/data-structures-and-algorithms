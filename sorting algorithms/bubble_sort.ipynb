{
  "nbformat": 4,
  "nbformat_minor": 0,
  "metadata": {
    "colab": {
      "provenance": []
    },
    "kernelspec": {
      "name": "python3",
      "display_name": "Python 3"
    },
    "language_info": {
      "name": "python"
    }
  },
  "cells": [
    {
      "cell_type": "code",
      "execution_count": 2,
      "metadata": {
        "colab": {
          "base_uri": "https://localhost:8080/"
        },
        "id": "eVil_IJL07z4",
        "outputId": "d54fba70-0139-4198-e75b-2f7f00cc83a3"
      },
      "outputs": [
        {
          "output_type": "stream",
          "name": "stdout",
          "text": [
            "Sorted array: [11, 12, 22, 25, 34, 64, 90]\n"
          ]
        }
      ],
      "source": [
        "# Bubble Sort\n",
        "def bubble_sort(arr):\n",
        "    for i in range(len(arr)):\n",
        "        for j in range(0, len(arr) - i - 1):\n",
        "            if arr[j] > arr[j + 1]:\n",
        "                arr[j], arr[j + 1] = arr[j + 1], arr[j]\n",
        "    return arr\n",
        "\n",
        "# Sample array\n",
        "arr = [64, 34, 25, 12, 22, 11, 90]\n",
        "\n",
        "# Sort the array using bubble sort\n",
        "sorted_arr = bubble_sort(arr)\n",
        "\n",
        "# Print the sorted array\n",
        "print(\"Sorted array:\", sorted_arr)\n"
      ]
    }
  ]
}