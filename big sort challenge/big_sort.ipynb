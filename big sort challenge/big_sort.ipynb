{
  "nbformat": 4,
  "nbformat_minor": 0,
  "metadata": {
    "colab": {
      "provenance": []
    },
    "kernelspec": {
      "name": "python3",
      "display_name": "Python 3"
    },
    "language_info": {
      "name": "python"
    }
  },
  "cells": [
    {
      "cell_type": "code",
      "execution_count": 1,
      "metadata": {
        "colab": {
          "base_uri": "https://localhost:8080/"
        },
        "id": "VSm6L2IqAFcZ",
        "outputId": "753dbf4e-16aa-46c0-c06f-bd09ab7e7566"
      },
      "outputs": [
        {
          "output_type": "stream",
          "name": "stdout",
          "text": [
            "1\n",
            "3\n",
            "3\n",
            "5\n",
            "10\n",
            "31415926535897932384626433832795\n"
          ]
        }
      ],
      "source": [
        "def bigSorting(unsorted):\n",
        "    # Sort the list by length of the string and then lexicographically for same length\n",
        "    sorted_array = sorted(unsorted, key=lambda x: (len(x), x))\n",
        "    return sorted_array\n",
        "\n",
        "unsorted = [\"31415926535897932384626433832795\", \"1\", \"3\", \"10\", \"3\", \"5\"]\n",
        "\n",
        "result = bigSorting(unsorted)\n",
        "for item in result:\n",
        "    print(item)\n"
      ]
    }
  ]
}