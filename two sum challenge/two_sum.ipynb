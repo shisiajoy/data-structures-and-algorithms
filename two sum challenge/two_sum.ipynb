{
  "nbformat": 4,
  "nbformat_minor": 0,
  "metadata": {
    "colab": {
      "provenance": []
    },
    "kernelspec": {
      "name": "python3",
      "display_name": "Python 3"
    },
    "language_info": {
      "name": "python"
    }
  },
  "cells": [
    {
      "cell_type": "code",
      "execution_count": 1,
      "metadata": {
        "colab": {
          "base_uri": "https://localhost:8080/"
        },
        "id": "e4YjtBNd-yt7",
        "outputId": "905f8ce8-60bc-457f-e409-60a67c0e11ca"
      },
      "outputs": [
        {
          "output_type": "stream",
          "name": "stdout",
          "text": [
            "[1, 2]\n"
          ]
        }
      ],
      "source": [
        "# Define the twoSum function\n",
        "def twoSum(numbers, target):\n",
        "    left, right = 0, len(numbers) - 1  # Initialize two pointers at the beginning and end of the list\n",
        "\n",
        "    while left < right:\n",
        "        current_sum = numbers[left] + numbers[right]\n",
        "\n",
        "        if current_sum == target:\n",
        "            # Return 1-based indices, so add 1 to each pointer\n",
        "            return [left + 1, right + 1]\n",
        "        elif current_sum < target:\n",
        "            left += 1  # Move the left pointer right to increase the sum\n",
        "        else:\n",
        "            right -= 1  # Move the right pointer left to decrease the sum\n",
        "\n",
        "# Example input\n",
        "numbers = [2, 7, 11, 15]\n",
        "target = 9\n",
        "\n",
        "# Call the function and print the result\n",
        "result = twoSum(numbers, target)\n",
        "print(result)\n"
      ]
    }
  ]
}